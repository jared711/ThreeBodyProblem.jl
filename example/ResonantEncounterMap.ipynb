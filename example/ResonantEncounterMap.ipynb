{
 "cells": [
  {
   "cell_type": "code",
   "execution_count": 1,
   "metadata": {},
   "outputs": [],
   "source": [
    "using ThreeBodyProblem"
   ]
  },
  {
   "cell_type": "code",
   "execution_count": 3,
   "metadata": {},
   "outputs": [
    {
     "data": {
      "text/plain": [
       "([0.0 0.03172793349806765 … 0.031727933498067656 1.2246467991473532e-16; 0.0 0.0316640549030575 … 0.03166405490305751 1.2221811889329985e-16; … ; 0.0 0.0316640549030575 … 0.03166405490305751 1.2221811889329985e-16; 0.0 0.03172793349806765 … 0.031727933498067656 1.2246467991473532e-16], [0.0 0.0 … 0.0 0.0; 0.0 0.0020123099050502642 … 0.0020123099050502647 7.767190019679061e-18; … ; -0.0 -0.0020123099050502647 … -0.002012309905050265 -7.767190019679064e-18; -0.0 -7.771102440393727e-18 … -7.771102440393728e-18 -2.999519565323715e-32], [1.0 0.9994965423831851 … -0.9994965423831851 -1.0; 1.0 0.9994965423831851 … -0.9994965423831851 -1.0; … ; 1.0 0.9994965423831851 … -0.9994965423831851 -1.0; 1.0 0.9994965423831851 … -0.9994965423831851 -1.0])"
      ]
     },
     "execution_count": 3,
     "metadata": {},
     "output_type": "execute_result"
    }
   ],
   "source": [
    "s = sphere()"
   ]
  },
  {
   "cell_type": "code",
   "execution_count": 6,
   "metadata": {},
   "outputs": [
    {
     "ename": "LoadError",
     "evalue": "MethodError: no method matching size(::Tuple{Matrix{Float64}, Matrix{Float64}, Matrix{Float64}})\n\u001b[0mClosest candidates are:\n\u001b[0m  size(::Tuple, \u001b[91m::Integer\u001b[39m) at tuple.jl:27\n\u001b[0m  size(\u001b[91m::Union{LinearAlgebra.QR, LinearAlgebra.QRCompactWY, LinearAlgebra.QRPivoted}\u001b[39m) at /buildworker/worker/package_linux64/build/usr/share/julia/stdlib/v1.6/LinearAlgebra/src/qr.jl:524\n\u001b[0m  size(\u001b[91m::Union{LinearAlgebra.QR, LinearAlgebra.QRCompactWY, LinearAlgebra.QRPivoted}\u001b[39m, \u001b[91m::Integer\u001b[39m) at /buildworker/worker/package_linux64/build/usr/share/julia/stdlib/v1.6/LinearAlgebra/src/qr.jl:523\n\u001b[0m  ...",
     "output_type": "error",
     "traceback": [
      "MethodError: no method matching size(::Tuple{Matrix{Float64}, Matrix{Float64}, Matrix{Float64}})\n\u001b[0mClosest candidates are:\n\u001b[0m  size(::Tuple, \u001b[91m::Integer\u001b[39m) at tuple.jl:27\n\u001b[0m  size(\u001b[91m::Union{LinearAlgebra.QR, LinearAlgebra.QRCompactWY, LinearAlgebra.QRPivoted}\u001b[39m) at /buildworker/worker/package_linux64/build/usr/share/julia/stdlib/v1.6/LinearAlgebra/src/qr.jl:524\n\u001b[0m  size(\u001b[91m::Union{LinearAlgebra.QR, LinearAlgebra.QRCompactWY, LinearAlgebra.QRPivoted}\u001b[39m, \u001b[91m::Integer\u001b[39m) at /buildworker/worker/package_linux64/build/usr/share/julia/stdlib/v1.6/LinearAlgebra/src/qr.jl:523\n\u001b[0m  ...",
      "",
      "Stacktrace:",
      " [1] top-level scope",
      "   @ In[6]:1",
      " [2] eval",
      "   @ ./boot.jl:360 [inlined]",
      " [3] include_string(mapexpr::typeof(REPL.softscope), mod::Module, code::String, filename::String)",
      "   @ Base ./loading.jl:1094"
     ]
    }
   ],
   "source": [
    "size(s)"
   ]
  },
  {
   "cell_type": "code",
   "execution_count": null,
   "metadata": {},
   "outputs": [],
   "source": []
  }
 ],
 "metadata": {
  "kernelspec": {
   "display_name": "Julia 1.6.0",
   "language": "julia",
   "name": "julia-1.6"
  },
  "language_info": {
   "file_extension": ".jl",
   "mimetype": "application/julia",
   "name": "julia",
   "version": "1.6.0"
  }
 },
 "nbformat": 4,
 "nbformat_minor": 4
}
