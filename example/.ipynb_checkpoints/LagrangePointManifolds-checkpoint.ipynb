{
 "cells": [
  {
   "cell_type": "markdown",
   "metadata": {},
   "source": [
    "# We will compute the manifolds of the L1 and L2 Lagrange points in the Sun/Jupiter System"
   ]
  },
  {
   "cell_type": "markdown",
   "metadata": {},
   "source": [
    "## We will be using the ThreeBodyProblem and DifferentialEquations packages"
   ]
  },
  {
   "cell_type": "code",
   "execution_count": 1,
   "metadata": {},
   "outputs": [
    {
     "name": "stderr",
     "output_type": "stream",
     "text": [
      "┌ Info: Precompiling ThreeBodyProblem [f5e9ba3c-56cf-4230-8a8f-3a70500a02a9]\n",
      "└ @ Base loading.jl:1278\n"
     ]
    }
   ],
   "source": [
    "using ThreeBodyProblem\n",
    "using DifferentialEquations\n"
   ]
  },
  {
   "cell_type": "code",
   "execution_count": 33,
   "metadata": {},
   "outputs": [
    {
     "ename": "LoadError",
     "evalue": "ArgumentError: Package Plot not found in current path:\n- Run `import Pkg; Pkg.add(\"Plot\")` to install the Plot package.\n",
     "output_type": "error",
     "traceback": [
      "ArgumentError: Package Plot not found in current path:\n- Run `import Pkg; Pkg.add(\"Plot\")` to install the Plot package.\n",
      "",
      "Stacktrace:",
      " [1] require(::Module, ::Symbol) at ./loading.jl:893",
      " [2] include_string(::Function, ::Module, ::String, ::String) at ./loading.jl:1091"
     ]
    }
   ],
   "source": [
    "using Plot"
   ]
  },
  {
   "cell_type": "code",
   "execution_count": 5,
   "metadata": {},
   "outputs": [
    {
     "data": {
      "text/plain": [
       "(Body(1.98847e30, 695700.0, 0.0, 0.0, \"Sun\"), Body(1.898187e27, 69911.0, 7.782799587829314e8, 3.74355659124e8, \"Jupiter\"), System(1.3271645321e11, 1.26690694941e8, 0.000953686364361088, 7.782799587829314e8, 695700.0, 69911.0, 3.74355659124e8, 7.782799587829314e8, 5.958055362400919e7, 13.06265067112951, \"Sun/Jupiter\"))"
      ]
     },
     "execution_count": 5,
     "metadata": {},
     "output_type": "execute_result"
    }
   ],
   "source": [
    "# We declare the primary and secondary bodies, along with the system\n",
    "PRIM, SEC, SYS = sun_jupiter()"
   ]
  },
  {
   "cell_type": "code",
   "execution_count": 21,
   "metadata": {},
   "outputs": [
    {
     "data": {
      "text/plain": [
       "5-element Array{Array{Float64,1},1}:\n",
       " [0.9323700763087356, 0.0, 0.0]\n",
       " [1.0688260003760226, 0.0, 0.0]\n",
       " [-1.0003973692713148, 0.0, 0.0]\n",
       " [0.4990463136356389, 0.8660254037844386, 0.0]\n",
       " [0.4990463136356389, -0.8660254037844386, 0.0]"
      ]
     },
     "execution_count": 21,
     "metadata": {},
     "output_type": "execute_result"
    }
   ],
   "source": [
    "L1, L2 = computeLpts(SYS)"
   ]
  },
  {
   "cell_type": "code",
   "execution_count": 27,
   "metadata": {},
   "outputs": [
    {
     "data": {
      "text/plain": [
       "6-element Array{Float64,1}:\n",
       " 0.9323700763087356\n",
       " 0.0\n",
       " 0.0\n",
       " 0.0\n",
       " 0.0\n",
       " 0.0"
      ]
     },
     "execution_count": 27,
     "metadata": {},
     "output_type": "execute_result"
    }
   ],
   "source": [
    "# Declare state vectors for L1 and L2 (with zero velocity)\n",
    "rv1 = [L1; zeros(3)] # state at Lagrange point L1\n",
    "rv2 = [L1; zeros(3)] # state at Lagrange point L2"
   ]
  },
  {
   "cell_type": "code",
   "execution_count": 31,
   "metadata": {},
   "outputs": [
    {
     "data": {
      "text/plain": [
       "retcode: Success\n",
       "Interpolation: automatic order switching interpolation\n",
       "t: 8-element Array{Float64,1}:\n",
       " 0.0\n",
       " 9.999999999999999e-5\n",
       " 0.0010999999999999998\n",
       " 0.011099999999999997\n",
       " 0.11109999999999996\n",
       " 1.1110999999999995\n",
       " 6.123373227498348\n",
       " 6.283185307179586\n",
       "u: 8-element Array{Array{Float64,1},1}:\n",
       " [0.9323700763087356, 0.0, 0.0, 0.0, 0.0, 0.0]\n",
       " [0.9323700763087356, 1.8503717045202868e-28, 0.0, -5.551115123125784e-20, 5.551115107184246e-24, 0.0]\n",
       " [0.9323700763087356, 2.4628442294800438e-25, 0.0, -6.106226635438362e-19, 6.716846964981867e-22, 0.0]\n",
       " [0.9323700763087356, 2.530571984689412e-22, 0.0, -6.161737786669619e-18, 6.83928694284944e-20, 0.0]\n",
       " [0.9323700763087356, 2.532080135897918e-19, 0.0, -6.167288901792745e-17, 6.8276046761296306e-18, 0.0]\n",
       " [0.9323700763087351, 2.685692538049114e-16, 0.0, -1.445793305607487e-15, 7.56934551845564e-16, 0.0]\n",
       " [0.9323700762923073, 3.977234153818704e-11, 0.0, -1.9167763243790058e-10, 2.6524608469003643e-11, 0.0]\n",
       " [0.9323700762592909, 4.7297804558835066e-11, 0.0, -2.279351546974463e-10, 6.889081892842242e-11, 0.0]"
      ]
     },
     "execution_count": 31,
     "metadata": {},
     "output_type": "execute_result"
    }
   ],
   "source": [
    "# Integrate trajectories for 10 periods\n",
    "tspan = (0.,2π) # make sure to add decimal points so tspan contains floating point values, not integers\n",
    "prob = ODEProblem(CR3BPdynamics!,rv1,tspan,SYS)\n",
    "sol = solve(prob,reltol=1e-6)"
   ]
  },
  {
   "cell_type": "code",
   "execution_count": 32,
   "metadata": {},
   "outputs": [
    {
     "ename": "LoadError",
     "evalue": "UndefVarError: plot not defined",
     "output_type": "error",
     "traceback": [
      "UndefVarError: plot not defined",
      "",
      "Stacktrace:",
      " [1] top-level scope at In[32]:1",
      " [2] include_string(::Function, ::Module, ::String, ::String) at ./loading.jl:1091"
     ]
    }
   ],
   "source": [
    "plot(sol,vars=(1,2),title=\"Lunar return trajectory in inertial frame\",label=\"\")"
   ]
  },
  {
   "cell_type": "code",
   "execution_count": 63,
   "metadata": {},
   "outputs": [
    {
     "data": {
      "text/plain": [
       "(Body(5.97237e24, 6371.0084, 1.495978976276167e8, 3.155814910224e7, \"Earth\"), Body(7.3457905697975825e22, 1737.5, 384400.0, 2.3606208e6, \"Moon\"), System(398613.89090999996, 4902.801, 0.012150181388514944, 384400.0, 6371.0084, 1737.5, 2.3606208e6, 384400.0, 375704.4690855444, 1.0231446033517255, \"Earth/Moon\"))"
      ]
     },
     "execution_count": 63,
     "metadata": {},
     "output_type": "execute_result"
    }
   ],
   "source": []
  },
  {
   "cell_type": "code",
   "execution_count": 68,
   "metadata": {},
   "outputs": [
    {
     "data": {
      "text/plain": [
       "System(398613.89090999996, 4902.801, 0.012150181388514944, 384400.0, 6371.0084, 1737.5, 2.3606208e6, 384400.0, 375704.4690855444, 1.0231446033517255, \"Earth/Moon\")"
      ]
     },
     "execution_count": 68,
     "metadata": {},
     "output_type": "execute_result"
    }
   ],
   "source": []
  },
  {
   "cell_type": "code",
   "execution_count": 69,
   "metadata": {},
   "outputs": [
    {
     "data": {
      "text/plain": [
       "(Body(5.97237e24, 6371.0084, 1.495978976276167e8, 3.155814910224e7, \"Earth\"), Body(7.3457905697975825e22, 1737.5, 384400.0, 2.3606208e6, \"Moon\"), System(398613.89090999996, 4902.801, 0.012150181388514944, 384400.0, 6371.0084, 1737.5, 2.3606208e6, 384400.0, 375704.4690855444, 1.0231446033517255, \"Earth/Moon\"))"
      ]
     },
     "execution_count": 69,
     "metadata": {},
     "output_type": "execute_result"
    }
   ],
   "source": []
  },
  {
   "cell_type": "code",
   "execution_count": 42,
   "metadata": {},
   "outputs": [
    {
     "data": {
      "text/plain": [
       "3.15576e7"
      ]
     },
     "execution_count": 42,
     "metadata": {},
     "output_type": "execute_result"
    }
   ],
   "source": []
  },
  {
   "cell_type": "code",
   "execution_count": null,
   "metadata": {},
   "outputs": [],
   "source": []
  },
  {
   "cell_type": "code",
   "execution_count": null,
   "metadata": {},
   "outputs": [],
   "source": []
  }
 ],
 "metadata": {
  "kernelspec": {
   "display_name": "Julia 1.5.0",
   "language": "julia",
   "name": "julia-1.5"
  },
  "language_info": {
   "file_extension": ".jl",
   "mimetype": "application/julia",
   "name": "julia",
   "version": "1.5.0"
  }
 },
 "nbformat": 4,
 "nbformat_minor": 4
}
