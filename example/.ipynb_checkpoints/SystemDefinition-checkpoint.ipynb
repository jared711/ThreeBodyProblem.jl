{
 "cells": [
  {
   "cell_type": "markdown",
   "metadata": {},
   "source": [
    "# A quick tutorial on how to define a system in ThreeBodyProblem.jl"
   ]
  },
  {
   "cell_type": "code",
   "execution_count": 14,
   "metadata": {},
   "outputs": [
    {
     "name": "stdout",
     "output_type": "stream",
     "text": [
      "\u001b[36m\u001b[1m     Project\u001b[22m\u001b[39m ThreeBodyProblem v0.1.0\n",
      "\u001b[32m\u001b[1m      Status\u001b[22m\u001b[39m `~/.julia/dev/ThreeBodyProblem/Project.toml`\n",
      " \u001b[90m [0c46a032] \u001b[39m\u001b[37mDifferentialEquations v6.16.0\u001b[39m\n",
      " \u001b[90m [e30172f5] \u001b[39m\u001b[37mDocumenter v0.26.3\u001b[39m\n",
      " \u001b[90m [7073ff75] \u001b[39m\u001b[37mIJulia v1.23.2\u001b[39m\n",
      " \u001b[90m [3cdcf5f2] \u001b[39m\u001b[37mRecipesBase v1.1.1\u001b[39m\n",
      " \u001b[90m [5bab7191] \u001b[39m\u001b[37mSPICE v0.2.1\u001b[39m\n",
      " \u001b[90m [37e2e46d] \u001b[39m\u001b[37mLinearAlgebra\u001b[39m\n"
     ]
    }
   ],
   "source": [
    "pwd()\n",
    "Pkg.status()"
   ]
  },
  {
   "cell_type": "code",
   "execution_count": 17,
   "metadata": {},
   "outputs": [],
   "source": [
    "using Plots\n",
    "using ThreeBodyProblem\n"
   ]
  },
  {
   "cell_type": "markdown",
   "metadata": {},
   "source": [
    "## We use the Body() constructor to create a new planet and a new moon"
   ]
  },
  {
   "cell_type": "code",
   "execution_count": 5,
   "metadata": {},
   "outputs": [
    {
     "data": {
      "text/plain": [
       "Body(1.0e24, 1.0e6, 2.2439680604999998e8, 1.893456e7, \"Hoth\", :blue)"
      ]
     },
     "execution_count": 5,
     "metadata": {},
     "output_type": "execute_result"
    }
   ],
   "source": [
    "# Create the ice planet Hoth\n",
    "m = 1e24 # {kg} mass\n",
    "R = 1e6 # {km} mean radius\n",
    "a = 1.5*AU # {km} mean semimajor axis\n",
    "T = 0.6*JY # {sec} mean orbital period\n",
    "name = \"Hoth\"\n",
    "newplanet = Body(m, R, a, T, name)"
   ]
  },
  {
   "cell_type": "markdown",
   "metadata": {},
   "source": [
    "## Note that we can use the constants AU, JY, JD, and G to define our bodies"
   ]
  },
  {
   "cell_type": "code",
   "execution_count": 6,
   "metadata": {},
   "outputs": [
    {
     "name": "stdout",
     "output_type": "stream",
     "text": [
      "search: \u001b[0m\u001b[1mJ\u001b[22m\u001b[0m\u001b[1mY\u001b[22m\n",
      "\n"
     ]
    },
    {
     "data": {
      "text/latex": [
       "\\begin{verbatim}\n",
       "JY\n",
       "\\end{verbatim}\n",
       "One Julian Year is equal to exactly 365.25 Julian Days or 31,557,600 seconds\n",
       "\n"
      ],
      "text/markdown": [
       "```\n",
       "JY\n",
       "```\n",
       "\n",
       "One Julian Year is equal to exactly 365.25 Julian Days or 31,557,600 seconds\n"
      ],
      "text/plain": [
       "\u001b[36m  JY\u001b[39m\n",
       "\n",
       "  One Julian Year is equal to exactly 365.25 Julian Days or 31,557,600 seconds"
      ]
     },
     "execution_count": 6,
     "metadata": {},
     "output_type": "execute_result"
    }
   ],
   "source": [
    "?JY # use the question mark operator to learn about a variable, type, or method"
   ]
  },
  {
   "cell_type": "code",
   "execution_count": 7,
   "metadata": {},
   "outputs": [
    {
     "data": {
      "text/plain": [
       "Body(1.0e22, 100000.0, 2.991957414e7, 3.9802478652529187e9, \"Endor\", :blue)"
      ]
     },
     "execution_count": 7,
     "metadata": {},
     "output_type": "execute_result"
    }
   ],
   "source": [
    "# Create the forest moon Endor\n",
    "m = 1e22 # {kg} mass\n",
    "R = 1e5 # {km} mean radiusasdf\n",
    "a = 0.2*AU # {km} mean semimajor axis\n",
    "T = 2π*sqrt(a^3/(G*newplanet.m)) # {sec} mean orbital period\n",
    "name = \"Endor\"\n",
    "newmoon = Body(m, R, a, T, name)"
   ]
  },
  {
   "cell_type": "markdown",
   "metadata": {},
   "source": [
    "## We define a System object using newplanet and newmoon as our primary and secondary bodies."
   ]
  },
  {
   "cell_type": "code",
   "execution_count": 9,
   "metadata": {},
   "outputs": [
    {
     "data": {
      "text/plain": [
       "System(Body(1.0e24, 1.0e6, 2.2439680604999998e8, 1.893456e7, \"Hoth\", :blue), Body(1.0e22, 100000.0, 2.991957414e7, 3.9802478652529187e9, \"Endor\", :blue), 66743.0, 667.43, 0.009900990099009901, 2.991957414e7, 1.0e6, 100000.0, 3.9802478652529187e9, 2.991957414e7, 6.334761224859662e8, 0.047230784362614756, \"Hoth/Endor\")"
      ]
     },
     "execution_count": 9,
     "metadata": {},
     "output_type": "execute_result"
    }
   ],
   "source": [
    "sys = System(newplanet, newmoon)"
   ]
  },
  {
   "cell_type": "markdown",
   "metadata": {},
   "source": [
    "## We can plot a System object using the plot() command"
   ]
  },
  {
   "cell_type": "code",
   "execution_count": 16,
   "metadata": {},
   "outputs": [
    {
     "name": "stderr",
     "output_type": "stream",
     "text": [
      "┌ Info: Precompiling Plots [91a5bcdd-55d7-5caf-9e0b-520d859cae80]\n",
      "└ @ Base loading.jl:1317\n",
      "\u001b[33m\u001b[1m┌ \u001b[22m\u001b[39m\u001b[33m\u001b[1mWarning: \u001b[22m\u001b[39mModule Tables with build ID 71877958045056 is missing from the cache.\n",
      "\u001b[33m\u001b[1m│ \u001b[22m\u001b[39mThis may mean Tables [bd369af6-aec1-5ad0-b16a-f7cc5008161c] does not support precompilation but is imported by a module that does.\n",
      "\u001b[33m\u001b[1m└ \u001b[22m\u001b[39m\u001b[90m@ Base loading.jl:1008\u001b[39m\n",
      "\u001b[33m\u001b[1m┌ \u001b[22m\u001b[39m\u001b[33m\u001b[1mWarning: \u001b[22m\u001b[39mModule Tables with build ID 71877958045056 is missing from the cache.\n",
      "\u001b[33m\u001b[1m│ \u001b[22m\u001b[39mThis may mean Tables [bd369af6-aec1-5ad0-b16a-f7cc5008161c] does not support precompilation but is imported by a module that does.\n",
      "\u001b[33m\u001b[1m└ \u001b[22m\u001b[39m\u001b[90m@ Base loading.jl:1008\u001b[39m\n",
      "┌ Info: Skipping precompilation since __precompile__(false). Importing Plots [91a5bcdd-55d7-5caf-9e0b-520d859cae80].\n",
      "└ @ Base loading.jl:1025\n",
      "┌ Info: Precompiling GeometryBasics [5c1252a2-5f33-56bf-86c9-59e7332b4326]\n",
      "└ @ Base loading.jl:1317\n",
      "\u001b[33m\u001b[1m┌ \u001b[22m\u001b[39m\u001b[33m\u001b[1mWarning: \u001b[22m\u001b[39mModule Tables with build ID 71877958045056 is missing from the cache.\n",
      "\u001b[33m\u001b[1m│ \u001b[22m\u001b[39mThis may mean Tables [bd369af6-aec1-5ad0-b16a-f7cc5008161c] does not support precompilation but is imported by a module that does.\n",
      "\u001b[33m\u001b[1m└ \u001b[22m\u001b[39m\u001b[90m@ Base loading.jl:1008\u001b[39m\n",
      "┌ Info: Skipping precompilation since __precompile__(false). Importing GeometryBasics [5c1252a2-5f33-56bf-86c9-59e7332b4326].\n",
      "└ @ Base loading.jl:1025\n",
      "┌ Info: Precompiling StructArrays [09ab397b-f2b6-538f-b94a-2f83cf4a842a]\n",
      "└ @ Base loading.jl:1317\n",
      "\u001b[33m\u001b[1m┌ \u001b[22m\u001b[39m\u001b[33m\u001b[1mWarning: \u001b[22m\u001b[39mModule Tables with build ID 71877958045056 is missing from the cache.\n",
      "\u001b[33m\u001b[1m│ \u001b[22m\u001b[39mThis may mean Tables [bd369af6-aec1-5ad0-b16a-f7cc5008161c] does not support precompilation but is imported by a module that does.\n",
      "\u001b[33m\u001b[1m└ \u001b[22m\u001b[39m\u001b[90m@ Base loading.jl:1008\u001b[39m\n",
      "┌ Info: Skipping precompilation since __precompile__(false). Importing StructArrays [09ab397b-f2b6-538f-b94a-2f83cf4a842a].\n",
      "└ @ Base loading.jl:1025\n",
      "┌ Info: Precompiling PlotUtils [995b91a9-d308-5afd-9ec6-746e21dbc043]\n",
      "└ @ Base loading.jl:1317\n",
      "┌ Info: Precompiling PlotThemes [ccf2f8ad-2431-5c83-bf29-c5338b663b6a]\n",
      "└ @ Base loading.jl:1317\n",
      "┌ Info: Precompiling RecipesPipeline [01d81517-befc-4cb6-b9ec-a95719d0359c]\n",
      "└ @ Base loading.jl:1317\n"
     ]
    },
    {
     "ename": "LoadError",
     "evalue": "UndefVarError: SYS not defined",
     "output_type": "error",
     "traceback": [
      "UndefVarError: SYS not defined",
      "",
      "Stacktrace:",
      " [1] top-level scope",
      "   @ In[16]:2",
      " [2] eval",
      "   @ ./boot.jl:360 [inlined]",
      " [3] include_string(mapexpr::typeof(REPL.softscope), mod::Module, code::String, filename::String)",
      "   @ Base ./loading.jl:1094"
     ]
    }
   ],
   "source": [
    "using Plots\n",
    "plot(sys)"
   ]
  },
  {
   "cell_type": "code",
   "execution_count": null,
   "metadata": {},
   "outputs": [],
   "source": []
  }
 ],
 "metadata": {
  "kernelspec": {
   "display_name": "Julia 1.6.0",
   "language": "julia",
   "name": "julia-1.6"
  },
  "language_info": {
   "file_extension": ".jl",
   "mimetype": "application/julia",
   "name": "julia",
   "version": "1.6.0"
  }
 },
 "nbformat": 4,
 "nbformat_minor": 4
}
