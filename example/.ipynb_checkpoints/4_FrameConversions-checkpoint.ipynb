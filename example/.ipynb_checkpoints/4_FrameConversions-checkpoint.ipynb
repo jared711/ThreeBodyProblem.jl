{
 "cells": [
  {
   "cell_type": "markdown",
   "metadata": {},
   "source": [
    "# Converting between various reference frames"
   ]
  },
  {
   "cell_type": "code",
   "execution_count": 1,
   "metadata": {},
   "outputs": [
    {
     "name": "stderr",
     "output_type": "stream",
     "text": [
      "┌ Info: Precompiling ThreeBodyProblem [f5e9ba3c-56cf-4230-8a8f-3a70500a02a9]\n",
      "└ @ Base loading.jl:1317\n",
      "WARNING: using LinearAlgebra.normalize! in module ThreeBodyProblem conflicts with an existing identifier.\n",
      "WARNING: using LinearAlgebra.normalize in module ThreeBodyProblem conflicts with an existing identifier.\n"
     ]
    }
   ],
   "source": [
    "using ThreeBodyProblem\n",
    "using LinearAlgebra"
   ]
  },
  {
   "cell_type": "markdown",
   "metadata": {},
   "source": [
    "### Let's begin with a state vector in the East/North/Up (ENU) frame."
   ]
  },
  {
   "cell_type": "code",
   "execution_count": 2,
   "metadata": {},
   "outputs": [
    {
     "data": {
      "text/plain": [
       "6-element Vector{Float64}:\n",
       " 191.0973115173407\n",
       "  78.7745585024403\n",
       "  57.3291938159787\n",
       " -52.199447002937305\n",
       " -21.517740337533645\n",
       " -15.659828241680069"
      ]
     },
     "execution_count": 2,
     "metadata": {},
     "output_type": "execute_result"
    }
   ],
   "source": [
    "# This particular state is from a meteor we sensed\n",
    "r_enu = [191.0973115173407; 78.7745585024403; 57.3291938159787] # [km]\n",
    "v_enu = [-52.199447002937305; -21.517740337533645; -15.659828241680069] #[km/s]\n",
    "rv_enu = [r_enu; v_enu]"
   ]
  },
  {
   "cell_type": "markdown",
   "metadata": {},
   "source": [
    "### The first step is to convert to Earth-Centered Earth Fixed (ECEF) frame"
   ]
  },
  {
   "cell_type": "markdown",
   "metadata": {},
   "source": [
    "### To do that, we need to know where our observer is on the surface of the Earth"
   ]
  },
  {
   "cell_type": "code",
   "execution_count": 3,
   "metadata": {},
   "outputs": [
    {
     "data": {
      "text/plain": [
       "(9.3987, 167.482, 0.083532)"
      ]
     },
     "execution_count": 3,
     "metadata": {},
     "output_type": "execute_result"
    }
   ],
   "source": [
    "# coordinates of observer (ALTAIR radar)\n",
    "ϕ = 9.3987 # [deg] latitude\n",
    "λ = 167.482 # [deg] longitude\n",
    "h = 0.083532 # [km] altitude\n",
    "ϕ, λ, h"
   ]
  },
  {
   "cell_type": "code",
   "execution_count": 4,
   "metadata": {},
   "outputs": [
    {
     "data": {
      "text/plain": [
       "2.0946704644977616e-13"
      ]
     },
     "execution_count": 4,
     "metadata": {},
     "output_type": "execute_result"
    }
   ],
   "source": [
    "rv_ecef = enu2ecef(rv_enu, ϕ, λ, h, geodetic=true, ang_unit=:deg)\n",
    "\n",
    "# Let's check that we get the same r_enu vector when working backwards\n",
    "error_enu_ecef = norm(rv_enu - ecef2enu(rv_ecef, ϕ, λ, h))"
   ]
  },
  {
   "cell_type": "markdown",
   "metadata": {},
   "source": [
    "### Now, to convert to Earth-Centered Inertial (ECI) frame, we need to know what time our observation was made"
   ]
  },
  {
   "cell_type": "code",
   "execution_count": 5,
   "metadata": {},
   "outputs": [
    {
     "data": {
      "text/plain": [
       "4.921831170620479"
      ]
     },
     "execution_count": 5,
     "metadata": {},
     "output_type": "execute_result"
    }
   ],
   "source": [
    "# UT1 November 17, 2000 15:00:05.634\n",
    "date = [2000,11,17,15,0,5.64] #[Y,M,D,h,m,s] observation date\n",
    "mjd = date2mjd(date) # [days] modified julian date\n",
    "θ = mjd2gmst(mjd) # [rad] Greenwich Mean Sidereal time"
   ]
  },
  {
   "cell_type": "code",
   "execution_count": 6,
   "metadata": {},
   "outputs": [
    {
     "data": {
      "text/plain": [
       "6-element Vector{Float64}:\n",
       " -133.8131346505561\n",
       " 6338.750449436253\n",
       " 1121.8584487359572\n",
       "   51.627211247304864\n",
       "  -12.416733690974475\n",
       "  -23.786189307837354"
      ]
     },
     "execution_count": 6,
     "metadata": {},
     "output_type": "execute_result"
    }
   ],
   "source": [
    "rv_eci = ecef2eci(rv_ecef, θ, ang_unit=:rad)"
   ]
  },
  {
   "cell_type": "code",
   "execution_count": 7,
   "metadata": {},
   "outputs": [
    {
     "data": {
      "text/plain": [
       "9.095293955807285e-13"
      ]
     },
     "execution_count": 7,
     "metadata": {},
     "output_type": "execute_result"
    }
   ],
   "source": [
    "# Let's check that we get the same r_ecef vector when working backwards\n",
    "error_ecef_eci = norm(rv_ecef - eci2ecef(rv_eci, θ))"
   ]
  },
  {
   "cell_type": "markdown",
   "metadata": {},
   "source": [
    "### Let's see what the orbital elements look like for this particular object"
   ]
  },
  {
   "cell_type": "code",
   "execution_count": 12,
   "metadata": {},
   "outputs": [
    {
     "data": {
      "text/plain": [
       "(-122.21338344657276, 51.21578408403558, 155.64508841006892, 248.19947181301956, 172.7857597860722, 342.2210521013797, NaN, NaN, NaN, 1630.7560663811946)"
      ]
     },
     "execution_count": 12,
     "metadata": {},
     "output_type": "execute_result"
    }
   ],
   "source": [
    "sys = sun_earth()\n",
    "a,e,i,Ω,ω,ν,Π,u,l,ℰ = cart2oe(rv_eci, 3.986004328969392e+05)"
   ]
  },
  {
   "cell_type": "code",
   "execution_count": 14,
   "metadata": {},
   "outputs": [
    {
     "data": {
      "text/plain": [
       "0.000982222394381847"
      ]
     },
     "execution_count": 14,
     "metadata": {},
     "output_type": "execute_result"
    }
   ],
   "source": [
    "# Let's check that we get the same r_eci vector when working backwards\n",
    "error_eci_oe = norm(rv_eci - oe2cart(a,e,i,Ω,ω,ν,G*sys.sec.m))"
   ]
  }
 ],
 "metadata": {
  "kernelspec": {
   "display_name": "Julia 1.6.0",
   "language": "julia",
   "name": "julia-1.6"
  },
  "language_info": {
   "file_extension": ".jl",
   "mimetype": "application/julia",
   "name": "julia",
   "version": "1.6.0"
  }
 },
 "nbformat": 4,
 "nbformat_minor": 4
}
